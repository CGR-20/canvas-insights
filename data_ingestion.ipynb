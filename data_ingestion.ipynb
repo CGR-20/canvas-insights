{
 "cells": [
  {
   "cell_type": "markdown",
   "metadata": {},
   "source": [
    "# **Canvas API Exploration Notebook**"
   ]
  },
  {
   "cell_type": "markdown",
   "metadata": {},
   "source": [
    "### **Step 0. Run ***pip install -r requirements.txt*** in your Terminal** \n",
    "#### (you may need to include either a \"python\" or \"python -m\" prefix)"
   ]
  },
  {
   "cell_type": "markdown",
   "metadata": {},
   "source": [
    "### **Step 1. Import Required Libraries**"
   ]
  },
  {
   "cell_type": "code",
   "execution_count": null,
   "metadata": {},
   "outputs": [],
   "source": [
    "# canvasapi used as API Wrapper\n",
    "# Pandas used as Data Exploration and Manipulation Tool\n",
    "\n",
    "from canvasapi import Canvas\n",
    "import pandas as pd"
   ]
  },
  {
   "cell_type": "markdown",
   "metadata": {},
   "source": [
    "### **Step 2. Initialize Constants and Master Canvas Object**"
   ]
  },
  {
   "cell_type": "code",
   "execution_count": null,
   "metadata": {},
   "outputs": [],
   "source": [
    "# Canvas API URL\n",
    "API_URL = \"https://uvu.instructure.com\"\n",
    "\n",
    "# Canvas API key (follow instructions on README file)\n",
    "API_KEY = open(\"API_KEY.txt\", \"r\").read().strip()\n",
    "\n",
    "# Initialize a new Canvas object\n",
    "canvas = Canvas(API_URL, API_KEY)\n",
    "\n",
    "# Canvas User ID\n",
    "USER_ID = canvas.get_user('self').id"
   ]
  },
  {
   "cell_type": "markdown",
   "metadata": {},
   "source": [
    "### **Step 3. Initialize Lists**"
   ]
  },
  {
   "cell_type": "code",
   "execution_count": null,
   "metadata": {},
   "outputs": [],
   "source": [
    "from canvasapi.course import Course\n",
    "from canvasapi.assignment import Assignment\n",
    "# These lists will act as temporary data stores and be the blueprints for the tables to be used in the Transactional Database\n",
    "\n",
    "courses = []\n",
    "course_objects: list[Course] = []\n",
    "course_assignments = []\n",
    "course_assignment_objects: list[Assignment] = []\n",
    "course_assignment_submissions = []"
   ]
  },
  {
   "cell_type": "markdown",
   "metadata": {},
   "source": [
    "### **Step 4. Load Data from All Courses into DataFrame Object**"
   ]
  },
  {
   "cell_type": "code",
   "execution_count": null,
   "metadata": {},
   "outputs": [],
   "source": [
    "# iterate through all available courses, append the raw strings to a list of dictionaries, append the Course objects to a separate list\n",
    "for course in canvas.get_courses():\n",
    "    courses.append({'course_id':course.id, 'course_name':course.name})\n",
    "    course_objects.append(course)\n",
    "\n",
    "# output list of dictionaries as Pandas DataFrame\n",
    "courses = pd.DataFrame(courses)\n",
    "\n",
    "# view results\n",
    "courses"
   ]
  },
  {
   "cell_type": "markdown",
   "metadata": {},
   "source": [
    "### **Step 5. Load All Assignments from All Courses into DataFrame Object**"
   ]
  },
  {
   "cell_type": "code",
   "execution_count": null,
   "metadata": {},
   "outputs": [],
   "source": [
    "# OUTER FOR LOOP: iterate through all available courses\n",
    "# INNER FOR LOOP: for each course, iterate over all available assignments, append full Assignment Objects to list, append the raw strings to a list of dictionaries\n",
    "for course in course_objects:\n",
    "    for assignment in course.get_assignments(): # Uses a linked list of GET requests. Can't be parallelized.\n",
    "        course_assignment_objects.append(assignment)\n",
    "        course_assignments.append({'course_id':course.id, 'assignment_id':assignment.id, 'assignment_name':assignment.name, 'description':assignment.description, 'submitted':assignment.has_submitted_submissions, 'points_possible':assignment.points_possible, 'submission_types':assignment.submission_types})\n",
    "\n",
    "# output list of dictionaries as Pandas DataFrame\n",
    "course_assignments = pd.DataFrame(course_assignments)\n",
    "\n",
    "# view results\n",
    "course_assignments"
   ]
  },
  {
   "cell_type": "markdown",
   "metadata": {},
   "source": [
    "### **Step 6. Load All Assignment Submissions from All Assignments in All Courses into List**"
   ]
  },
  {
   "cell_type": "code",
   "execution_count": null,
   "metadata": {},
   "outputs": [],
   "source": [
    "from concurrent.futures import ThreadPoolExecutor\n",
    "\n",
    "# for each Assignment Object in the \"course_assignment_objects\" list, iterate over each available submission made by the user (you)\n",
    "with ThreadPoolExecutor(max_workers=32) as ex:\n",
    "    submissions = ex.map(lambda assignment: assignment.get_submission('self'), course_assignment_objects)\n",
    "    for submission in submissions:\n",
    "        course_assignment_submissions.append(submission)"
   ]
  },
  {
   "cell_type": "markdown",
   "metadata": {},
   "source": [
    "### **Step 7. Load All Submission Data into DataFrame Object**"
   ]
  },
  {
   "cell_type": "code",
   "execution_count": null,
   "metadata": {},
   "outputs": [],
   "source": [
    "submission_info = []\n",
    "for submission in course_assignment_submissions:\n",
    "    # only include assignments that have been completed\n",
    "    try:\n",
    "        if submission.attempt != None:\n",
    "            submission_info.append({'assignment_id':submission.assignment_id, 'attachments':submission.attachments, 'attempt':submission.attempt, 'body':submission.body, 'due_date':submission.cached_due_date, 'grade':submission.entered_grade, 'score':submission.entered_score, 'extra_attempts':submission.extra_attempts, 'submission_id':submission.id, 'late':submission.late, 'submission_type':submission.submission_type, 'submitted_at':submission.submitted_at})\n",
    "    except:\n",
    "        pass\n",
    "# output list of dictionaries as Pandas DataFrame\n",
    "submissions = pd.DataFrame(submission_info)\n",
    "\n",
    "# reorder columns in DataFrame\n",
    "submissions = submissions[['assignment_id', 'submission_id', 'submission_type', 'body', 'attachments', 'attempt', 'extra_attempts', 'due_date', 'grade', 'score', 'late', 'submitted_at']]\n",
    "\n",
    "# view results\n",
    "submissions"
   ]
  },
  {
   "cell_type": "markdown",
   "metadata": {},
   "source": [
    "### **Output All DataFrame Objects to CSV Files**"
   ]
  },
  {
   "cell_type": "code",
   "execution_count": null,
   "metadata": {},
   "outputs": [],
   "source": [
    "import os\n",
    "\n",
    "courses_file = f'{USER_ID}_courses'\n",
    "assignments_file = f'{USER_ID}_assignments'\n",
    "submissions_file = f'{USER_ID}_submissions'\n",
    "\n",
    "courses_file = os.path.join('test_files', courses_file)\n",
    "assignments_file = os.path.join('test_files', assignments_file)\n",
    "submissions_file = os.path.join('test_files', submissions_file)\n",
    "\n",
    "courses.to_parquet(courses_file, index=False, compression='snappy')\n",
    "course_assignments.to_parquet(assignments_file, index=False, compression='snappy')\n",
    "submissions.drop(columns=['attachments'], inplace=True)\n",
    "submissions.to_parquet(submissions_file, index=False, compression='snappy')"
   ]
  }
 ],
 "metadata": {
  "kernelspec": {
   "display_name": "Python 3 (ipykernel)",
   "language": "python",
   "name": "python3"
  },
  "language_info": {
   "codemirror_mode": {
    "name": "ipython",
    "version": 3
   },
   "file_extension": ".py",
   "mimetype": "text/x-python",
   "name": "python",
   "nbconvert_exporter": "python",
   "pygments_lexer": "ipython3",
   "version": "3.9.13"
  }
 },
 "nbformat": 4,
 "nbformat_minor": 2
}
