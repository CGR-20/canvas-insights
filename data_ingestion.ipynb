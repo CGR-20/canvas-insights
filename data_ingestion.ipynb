{
 "cells": [
  {
   "cell_type": "markdown",
   "metadata": {},
   "source": [
    "# **Data Ingestion Notebook**"
   ]
  },
  {
   "cell_type": "markdown",
   "metadata": {},
   "source": [
    "### **Step 0. Run ***pip install -r requirements.txt*** in your Terminal** \n",
    "#### (you may need to include either a \"python\" or \"python -m\" prefix)"
   ]
  },
  {
   "cell_type": "markdown",
   "metadata": {},
   "source": [
    "### **Step 1. Import Required Libraries**"
   ]
  },
  {
   "cell_type": "code",
   "execution_count": null,
   "metadata": {},
   "outputs": [],
   "source": [
    "# canvasapi used as API Wrapper\n",
    "# Pandas used as Data Exploration and Manipulation Tool\n",
    "\n",
    "from canvasapi import Canvas\n",
    "import pandas as pd "
   ]
  },
  {
   "cell_type": "markdown",
   "metadata": {},
   "source": [
    "### **Step 2. Initialize Constants and Master Canvas Object**"
   ]
  },
  {
   "cell_type": "code",
   "execution_count": null,
   "metadata": {},
   "outputs": [],
   "source": [
    "# Canvas API URL\n",
    "API_URL = \"https://uvu.instructure.com\"\n",
    "\n",
    "# Canvas API key (follow instructions on README file)\n",
    "API_KEY = 'INSERT TOKEN HERE'\n",
    "\n",
    "# Canvas User ID\n",
    "USER_ID = # USER_ID\n",
    "\n",
    "# Initialize a new Canvas object\n",
    "canvas = Canvas(API_URL, API_KEY)"
   ]
  },
  {
   "cell_type": "markdown",
   "metadata": {},
   "source": [
    "### **Step 3. Initialize Lists**"
   ]
  },
  {
   "cell_type": "code",
   "execution_count": null,
   "metadata": {},
   "outputs": [],
   "source": [
    "# These lists will act as temporary data stores and be the blueprints for the tables to be used in the Transactional Database\n",
    "\n",
    "courses = []\n",
    "course_objects = []\n",
    "course_assignments = []\n",
    "course_assignment_objects = []\n",
    "course_assignment_submissions = []"
   ]
  },
  {
   "cell_type": "markdown",
   "metadata": {},
   "source": [
    "### **Step 4. Load Data from All Courses into DataFrame Object**"
   ]
  },
  {
   "cell_type": "code",
   "execution_count": null,
   "metadata": {},
   "outputs": [],
   "source": [
    "# iterate through all available courses, append the raw strings to a list of dictionaries, append the Course objects to a separate list\n",
    "for course in canvas.get_courses():\n",
    "    courses.append({'course_id':course.id, 'course_name':course.name})\n",
    "    course_objects.append(course)\n",
    "\n",
    "# output list of dictionaries as Pandas DataFrame\n",
    "courses = pd.DataFrame(courses)\n",
    "\n",
    "# view results\n",
    "courses"
   ]
  },
  {
   "cell_type": "markdown",
   "metadata": {},
   "source": [
    "### **Step 5. Load All Assignments from All Courses into DataFrame Object**"
   ]
  },
  {
   "cell_type": "code",
   "execution_count": null,
   "metadata": {},
   "outputs": [],
   "source": [
    "# OUTER FOR LOOP: iterate through all available courses\n",
    "# INNER FOR LOOP: for each course, iterate over all available assignments, append full Assignment Objects to list, append the raw strings to a list of dictionaries\n",
    "for course in course_objects:\n",
    "    for assignment in course.get_assignments():\n",
    "        course_assignment_objects.append(assignment)\n",
    "        course_assignments.append({'course_id':course.id, 'assignment_id':assignment.id, 'assignment_name':assignment.name, 'description':assignment.description, 'submitted':assignment.has_submitted_submissions, 'points_possible':assignment.points_possible, 'submission_types':assignment.submission_types})\n",
    "        \n",
    "# output list of dictionaries as Pandas DataFrame\n",
    "course_assignments = pd.DataFrame(course_assignments)\n",
    "\n",
    "# view results\n",
    "course_assignments"
   ]
  },
  {
   "cell_type": "markdown",
   "metadata": {},
   "source": [
    "### **Step 6. Load All Assignment Submissions from All Assignments in All Courses into List**"
   ]
  },
  {
   "cell_type": "code",
   "execution_count": null,
   "metadata": {},
   "outputs": [],
   "source": [
    "# OUTER FOR LOOP: iterate through all available courses\n",
    "# INNER FOR LOOP: for each Assignment Object in the \"course_assignment_objects\" list, iterate over each available submission made by the user (you)\n",
    "for course in course_objects:\n",
    "    for assignment in course_assignment_objects:\n",
    "        course_assignment_submissions.append(assignment.get_submission(USER_ID))"
   ]
  },
  {
   "cell_type": "markdown",
   "metadata": {},
   "source": [
    "### **Step 7. Load All Submission Data into DataFrame Object**"
   ]
  },
  {
   "cell_type": "code",
   "execution_count": null,
   "metadata": {},
   "outputs": [],
   "source": [
    "submission_info = []\n",
    "for submission in course_assignment_submissions:\n",
    "    # only include assignments that have been completed\n",
    "    if submission.attempt != None:\n",
    "        submission_info.append({'assignment_id':submission.assignment_id, 'attachments':submission.attachments, 'attempt':submission.attempt, 'body':submission.body, 'due_date':submission.cached_due_date, 'grade':submission.entered_grade, 'score':submission.entered_score, 'extra_attempts':submission.extra_attempts, 'submission_id':submission.id, 'late':submission.late, 'submission_type':submission.submission_type, 'submitted_at':submission.submitted_at})\n",
    "\n",
    "# output list of dictionaries as Pandas DataFrame\n",
    "submissions = pd.DataFrame(submission_info)\n",
    "\n",
    "# reorder columns in DataFrame\n",
    "submissions = submissions[['assignment_id', 'submission_id', 'submission_type', 'body', 'attempt', 'extra_attempts', 'due_date', 'grade', 'score', 'late', 'submitted_at']]\n",
    "\n",
    "# view results\n",
    "submissions"
   ]
  },
  {
   "cell_type": "markdown",
   "metadata": {},
   "source": [
    "### **Output All DataFrame Objects to CSV Files**"
   ]
  },
  {
   "cell_type": "code",
   "execution_count": null,
   "metadata": {},
   "outputs": [],
   "source": [
    "courses_file = '[YOUR NAME]_courses.csv'\n",
    "assignments_file = '[YOUR_NAME]_assignments.csv'\n",
    "submissions_file = '[YOUR_NAME]_submissions.csv'\n",
    "courses.to_csv(courses_file, index=False)\n",
    "course_assignments.to_csv(assignments_file, index=False)\n",
    "submissions.to_csv(submissions_file, index=False)"
   ]
  }
 ],
 "metadata": {
  "kernelspec": {
   "display_name": "Python 3",
   "language": "python",
   "name": "python3"
  },
  "language_info": {
   "codemirror_mode": {
    "name": "ipython",
    "version": 3
   },
   "file_extension": ".py",
   "mimetype": "text/x-python",
   "name": "python",
   "nbconvert_exporter": "python",
   "pygments_lexer": "ipython3",
   "version": "3.9.12"
  }
 },
 "nbformat": 4,
 "nbformat_minor": 2
}
